{
 "cells": [
  {
   "cell_type": "code",
   "execution_count": 1,
   "id": "a2b54fa0",
   "metadata": {
    "_cell_guid": "b1076dfc-b9ad-4769-8c92-a6c4dae69d19",
    "_uuid": "8f2839f25d086af736a60e9eeb907d3b93b6e0e5",
    "execution": {
     "iopub.execute_input": "2024-10-13T07:26:03.987480Z",
     "iopub.status.busy": "2024-10-13T07:26:03.987006Z",
     "iopub.status.idle": "2024-10-13T07:26:07.124271Z",
     "shell.execute_reply": "2024-10-13T07:26:07.123005Z"
    },
    "papermill": {
     "duration": 3.151278,
     "end_time": "2024-10-13T07:26:07.127268",
     "exception": false,
     "start_time": "2024-10-13T07:26:03.975990",
     "status": "completed"
    },
    "tags": []
   },
   "outputs": [
    {
     "name": "stdout",
     "output_type": "stream",
     "text": [
      "/kaggle/input/source-based-news-classification/news_articles.csv\n"
     ]
    }
   ],
   "source": [
    "# This Python 3 environment comes with many helpful analytics libraries installed\n",
    "# It is defined by the kaggle/python Docker image: https://github.com/kaggle/docker-python\n",
    "# For example, here's several helpful packages to load\n",
    "\n",
    "import numpy as np # linear algebra\n",
    "import pandas as pd # data processing, CSV file I/O (e.g. pd.read_csv)\n",
    "\n",
    "# Input data files are available in the read-only \"../input/\" directory\n",
    "# For example, running this (by clicking run or pressing Shift+Enter) will list all files under the input directory\n",
    "\n",
    "import os\n",
    "for dirname, _, filenames in os.walk('/kaggle/input'):\n",
    "    for filename in filenames:\n",
    "        print(os.path.join(dirname, filename))\n",
    "\n",
    "# You can write up to 20GB to the current directory (/kaggle/working/) that gets preserved as output when you create a version using \"Save & Run All\" \n",
    "# You can also write temporary files to /kaggle/temp/, but they won't be saved outside of the current session\n",
    "\n",
    "import pandas as pd\n",
    "from sklearn.model_selection import train_test_split\n",
    "from sklearn.feature_extraction.text import TfidfVectorizer\n",
    "from sklearn.linear_model import LogisticRegression\n",
    "from sklearn.metrics import accuracy_score, classification_report\n",
    "import joblib\n",
    "import optuna\n",
    "from optuna.samplers import TPESampler\n",
    "from sklearn.pipeline import Pipeline\n",
    "from sklearn.model_selection import cross_val_score\n",
    "\n",
    "import warnings\n",
    "warnings.filterwarnings(\"ignore\")\n",
    "\n",
    "# Suppress Optuna logs\n",
    "optuna.logging.set_verbosity(optuna.logging.WARNING)"
   ]
  },
  {
   "cell_type": "markdown",
   "id": "7025b59f",
   "metadata": {
    "papermill": {
     "duration": 0.008019,
     "end_time": "2024-10-13T07:26:07.144323",
     "exception": false,
     "start_time": "2024-10-13T07:26:07.136304",
     "status": "completed"
    },
    "tags": []
   },
   "source": [
    "## Load dataset"
   ]
  },
  {
   "cell_type": "code",
   "execution_count": 2,
   "id": "ff771d6f",
   "metadata": {
    "execution": {
     "iopub.execute_input": "2024-10-13T07:26:07.163509Z",
     "iopub.status.busy": "2024-10-13T07:26:07.162937Z",
     "iopub.status.idle": "2024-10-13T07:26:07.522529Z",
     "shell.execute_reply": "2024-10-13T07:26:07.521285Z"
    },
    "papermill": {
     "duration": 0.372438,
     "end_time": "2024-10-13T07:26:07.525153",
     "exception": false,
     "start_time": "2024-10-13T07:26:07.152715",
     "status": "completed"
    },
    "tags": []
   },
   "outputs": [
    {
     "data": {
      "text/html": [
       "<div>\n",
       "<style scoped>\n",
       "    .dataframe tbody tr th:only-of-type {\n",
       "        vertical-align: middle;\n",
       "    }\n",
       "\n",
       "    .dataframe tbody tr th {\n",
       "        vertical-align: top;\n",
       "    }\n",
       "\n",
       "    .dataframe thead th {\n",
       "        text-align: right;\n",
       "    }\n",
       "</style>\n",
       "<table border=\"1\" class=\"dataframe\">\n",
       "  <thead>\n",
       "    <tr style=\"text-align: right;\">\n",
       "      <th></th>\n",
       "      <th>author</th>\n",
       "      <th>published</th>\n",
       "      <th>title</th>\n",
       "      <th>text</th>\n",
       "      <th>language</th>\n",
       "      <th>site_url</th>\n",
       "      <th>main_img_url</th>\n",
       "      <th>type</th>\n",
       "      <th>label</th>\n",
       "      <th>title_without_stopwords</th>\n",
       "      <th>text_without_stopwords</th>\n",
       "      <th>hasImage</th>\n",
       "    </tr>\n",
       "  </thead>\n",
       "  <tbody>\n",
       "    <tr>\n",
       "      <th>0</th>\n",
       "      <td>Barracuda Brigade</td>\n",
       "      <td>2016-10-26T21:41:00.000+03:00</td>\n",
       "      <td>muslims busted they stole millions in govt ben...</td>\n",
       "      <td>print they should pay all the back all the mon...</td>\n",
       "      <td>english</td>\n",
       "      <td>100percentfedup.com</td>\n",
       "      <td>http://bb4sp.com/wp-content/uploads/2016/10/Fu...</td>\n",
       "      <td>bias</td>\n",
       "      <td>Real</td>\n",
       "      <td>muslims busted stole millions govt benefits</td>\n",
       "      <td>print pay back money plus interest entire fami...</td>\n",
       "      <td>1.0</td>\n",
       "    </tr>\n",
       "    <tr>\n",
       "      <th>1</th>\n",
       "      <td>reasoning with facts</td>\n",
       "      <td>2016-10-29T08:47:11.259+03:00</td>\n",
       "      <td>re why did attorney general loretta lynch plea...</td>\n",
       "      <td>why did attorney general loretta lynch plead t...</td>\n",
       "      <td>english</td>\n",
       "      <td>100percentfedup.com</td>\n",
       "      <td>http://bb4sp.com/wp-content/uploads/2016/10/Fu...</td>\n",
       "      <td>bias</td>\n",
       "      <td>Real</td>\n",
       "      <td>attorney general loretta lynch plead fifth</td>\n",
       "      <td>attorney general loretta lynch plead fifth bar...</td>\n",
       "      <td>1.0</td>\n",
       "    </tr>\n",
       "    <tr>\n",
       "      <th>2</th>\n",
       "      <td>Barracuda Brigade</td>\n",
       "      <td>2016-10-31T01:41:49.479+02:00</td>\n",
       "      <td>breaking weiner cooperating with fbi on hillar...</td>\n",
       "      <td>red state  \\nfox news sunday reported this mor...</td>\n",
       "      <td>english</td>\n",
       "      <td>100percentfedup.com</td>\n",
       "      <td>http://bb4sp.com/wp-content/uploads/2016/10/Fu...</td>\n",
       "      <td>bias</td>\n",
       "      <td>Real</td>\n",
       "      <td>breaking weiner cooperating fbi hillary email ...</td>\n",
       "      <td>red state fox news sunday reported morning ant...</td>\n",
       "      <td>1.0</td>\n",
       "    </tr>\n",
       "    <tr>\n",
       "      <th>3</th>\n",
       "      <td>Fed Up</td>\n",
       "      <td>2016-11-01T05:22:00.000+02:00</td>\n",
       "      <td>pin drop speech by father of daughter kidnappe...</td>\n",
       "      <td>email kayla mueller was a prisoner and torture...</td>\n",
       "      <td>english</td>\n",
       "      <td>100percentfedup.com</td>\n",
       "      <td>http://100percentfedup.com/wp-content/uploads/...</td>\n",
       "      <td>bias</td>\n",
       "      <td>Real</td>\n",
       "      <td>pin drop speech father daughter kidnapped kill...</td>\n",
       "      <td>email kayla mueller prisoner tortured isis cha...</td>\n",
       "      <td>1.0</td>\n",
       "    </tr>\n",
       "    <tr>\n",
       "      <th>4</th>\n",
       "      <td>Fed Up</td>\n",
       "      <td>2016-11-01T21:56:00.000+02:00</td>\n",
       "      <td>fantastic trumps  point plan to reform healthc...</td>\n",
       "      <td>email healthcare reform to make america great ...</td>\n",
       "      <td>english</td>\n",
       "      <td>100percentfedup.com</td>\n",
       "      <td>http://100percentfedup.com/wp-content/uploads/...</td>\n",
       "      <td>bias</td>\n",
       "      <td>Real</td>\n",
       "      <td>fantastic trumps point plan reform healthcare ...</td>\n",
       "      <td>email healthcare reform make america great sin...</td>\n",
       "      <td>1.0</td>\n",
       "    </tr>\n",
       "    <tr>\n",
       "      <th>...</th>\n",
       "      <td>...</td>\n",
       "      <td>...</td>\n",
       "      <td>...</td>\n",
       "      <td>...</td>\n",
       "      <td>...</td>\n",
       "      <td>...</td>\n",
       "      <td>...</td>\n",
       "      <td>...</td>\n",
       "      <td>...</td>\n",
       "      <td>...</td>\n",
       "      <td>...</td>\n",
       "      <td>...</td>\n",
       "    </tr>\n",
       "    <tr>\n",
       "      <th>2091</th>\n",
       "      <td>-NO AUTHOR-</td>\n",
       "      <td>2016-10-27T15:36:10.573+03:00</td>\n",
       "      <td>teens walk free after gangrape conviction</td>\n",
       "      <td>NaN</td>\n",
       "      <td>english</td>\n",
       "      <td>wnd.com</td>\n",
       "      <td>http://www.wnd.com/files/2016/10/hillary_haunt...</td>\n",
       "      <td>bias</td>\n",
       "      <td>Real</td>\n",
       "      <td>good samaritan wearing indian headdress disarm...</td>\n",
       "      <td>NaN</td>\n",
       "      <td>1.0</td>\n",
       "    </tr>\n",
       "    <tr>\n",
       "      <th>2092</th>\n",
       "      <td>-NO AUTHOR-</td>\n",
       "      <td>2016-10-27T15:36:10.671+03:00</td>\n",
       "      <td>school named for munichmassacre mastermind</td>\n",
       "      <td>NaN</td>\n",
       "      <td>english</td>\n",
       "      <td>wnd.com</td>\n",
       "      <td>http://www.wnd.com/files/2016/10/rambo_richard...</td>\n",
       "      <td>bias</td>\n",
       "      <td>Real</td>\n",
       "      <td>skype sex scam fortune built shame</td>\n",
       "      <td>NaN</td>\n",
       "      <td>1.0</td>\n",
       "    </tr>\n",
       "    <tr>\n",
       "      <th>2093</th>\n",
       "      <td>-NO AUTHOR-</td>\n",
       "      <td>2016-10-27T13:30:00.000+03:00</td>\n",
       "      <td>russia unveils satan  missile</td>\n",
       "      <td>NaN</td>\n",
       "      <td>english</td>\n",
       "      <td>wnd.com</td>\n",
       "      <td>http://www.wnd.com/files/2016/10/skype_sex_sca...</td>\n",
       "      <td>bs</td>\n",
       "      <td>Fake</td>\n",
       "      <td>cannabis aficionados develop thca crystalline ...</td>\n",
       "      <td>NaN</td>\n",
       "      <td>1.0</td>\n",
       "    </tr>\n",
       "    <tr>\n",
       "      <th>2094</th>\n",
       "      <td>-NO AUTHOR-</td>\n",
       "      <td>2016-10-27T15:58:41.935+03:00</td>\n",
       "      <td>check out hillarythemed haunted house</td>\n",
       "      <td>NaN</td>\n",
       "      <td>english</td>\n",
       "      <td>wnd.com</td>\n",
       "      <td>http://worldtruth.tv/wp-content/uploads/2016/1...</td>\n",
       "      <td>bs</td>\n",
       "      <td>Fake</td>\n",
       "      <td>title</td>\n",
       "      <td>NaN</td>\n",
       "      <td>0.0</td>\n",
       "    </tr>\n",
       "    <tr>\n",
       "      <th>2095</th>\n",
       "      <td>Eddy Lavine</td>\n",
       "      <td>2016-10-28T01:02:00.000+03:00</td>\n",
       "      <td>cannabis aficionados develop thca crystalline ...</td>\n",
       "      <td>NaN</td>\n",
       "      <td>NaN</td>\n",
       "      <td>NaN</td>\n",
       "      <td>NaN</td>\n",
       "      <td>NaN</td>\n",
       "      <td>NaN</td>\n",
       "      <td>NaN</td>\n",
       "      <td>NaN</td>\n",
       "      <td>NaN</td>\n",
       "    </tr>\n",
       "  </tbody>\n",
       "</table>\n",
       "<p>2096 rows × 12 columns</p>\n",
       "</div>"
      ],
      "text/plain": [
       "                    author                      published  \\\n",
       "0        Barracuda Brigade  2016-10-26T21:41:00.000+03:00   \n",
       "1     reasoning with facts  2016-10-29T08:47:11.259+03:00   \n",
       "2        Barracuda Brigade  2016-10-31T01:41:49.479+02:00   \n",
       "3                   Fed Up  2016-11-01T05:22:00.000+02:00   \n",
       "4                   Fed Up  2016-11-01T21:56:00.000+02:00   \n",
       "...                    ...                            ...   \n",
       "2091           -NO AUTHOR-  2016-10-27T15:36:10.573+03:00   \n",
       "2092           -NO AUTHOR-  2016-10-27T15:36:10.671+03:00   \n",
       "2093           -NO AUTHOR-  2016-10-27T13:30:00.000+03:00   \n",
       "2094           -NO AUTHOR-  2016-10-27T15:58:41.935+03:00   \n",
       "2095           Eddy Lavine  2016-10-28T01:02:00.000+03:00   \n",
       "\n",
       "                                                  title  \\\n",
       "0     muslims busted they stole millions in govt ben...   \n",
       "1     re why did attorney general loretta lynch plea...   \n",
       "2     breaking weiner cooperating with fbi on hillar...   \n",
       "3     pin drop speech by father of daughter kidnappe...   \n",
       "4     fantastic trumps  point plan to reform healthc...   \n",
       "...                                                 ...   \n",
       "2091          teens walk free after gangrape conviction   \n",
       "2092         school named for munichmassacre mastermind   \n",
       "2093                      russia unveils satan  missile   \n",
       "2094              check out hillarythemed haunted house   \n",
       "2095  cannabis aficionados develop thca crystalline ...   \n",
       "\n",
       "                                                   text language  \\\n",
       "0     print they should pay all the back all the mon...  english   \n",
       "1     why did attorney general loretta lynch plead t...  english   \n",
       "2     red state  \\nfox news sunday reported this mor...  english   \n",
       "3     email kayla mueller was a prisoner and torture...  english   \n",
       "4     email healthcare reform to make america great ...  english   \n",
       "...                                                 ...      ...   \n",
       "2091                                                NaN  english   \n",
       "2092                                                NaN  english   \n",
       "2093                                                NaN  english   \n",
       "2094                                                NaN  english   \n",
       "2095                                                NaN      NaN   \n",
       "\n",
       "                 site_url                                       main_img_url  \\\n",
       "0     100percentfedup.com  http://bb4sp.com/wp-content/uploads/2016/10/Fu...   \n",
       "1     100percentfedup.com  http://bb4sp.com/wp-content/uploads/2016/10/Fu...   \n",
       "2     100percentfedup.com  http://bb4sp.com/wp-content/uploads/2016/10/Fu...   \n",
       "3     100percentfedup.com  http://100percentfedup.com/wp-content/uploads/...   \n",
       "4     100percentfedup.com  http://100percentfedup.com/wp-content/uploads/...   \n",
       "...                   ...                                                ...   \n",
       "2091              wnd.com  http://www.wnd.com/files/2016/10/hillary_haunt...   \n",
       "2092              wnd.com  http://www.wnd.com/files/2016/10/rambo_richard...   \n",
       "2093              wnd.com  http://www.wnd.com/files/2016/10/skype_sex_sca...   \n",
       "2094              wnd.com  http://worldtruth.tv/wp-content/uploads/2016/1...   \n",
       "2095                  NaN                                                NaN   \n",
       "\n",
       "      type label                            title_without_stopwords  \\\n",
       "0     bias  Real        muslims busted stole millions govt benefits   \n",
       "1     bias  Real         attorney general loretta lynch plead fifth   \n",
       "2     bias  Real  breaking weiner cooperating fbi hillary email ...   \n",
       "3     bias  Real  pin drop speech father daughter kidnapped kill...   \n",
       "4     bias  Real  fantastic trumps point plan reform healthcare ...   \n",
       "...    ...   ...                                                ...   \n",
       "2091  bias  Real  good samaritan wearing indian headdress disarm...   \n",
       "2092  bias  Real                 skype sex scam fortune built shame   \n",
       "2093    bs  Fake  cannabis aficionados develop thca crystalline ...   \n",
       "2094    bs  Fake                                              title   \n",
       "2095   NaN   NaN                                                NaN   \n",
       "\n",
       "                                 text_without_stopwords  hasImage  \n",
       "0     print pay back money plus interest entire fami...       1.0  \n",
       "1     attorney general loretta lynch plead fifth bar...       1.0  \n",
       "2     red state fox news sunday reported morning ant...       1.0  \n",
       "3     email kayla mueller prisoner tortured isis cha...       1.0  \n",
       "4     email healthcare reform make america great sin...       1.0  \n",
       "...                                                 ...       ...  \n",
       "2091                                                NaN       1.0  \n",
       "2092                                                NaN       1.0  \n",
       "2093                                                NaN       1.0  \n",
       "2094                                                NaN       0.0  \n",
       "2095                                                NaN       NaN  \n",
       "\n",
       "[2096 rows x 12 columns]"
      ]
     },
     "execution_count": 2,
     "metadata": {},
     "output_type": "execute_result"
    }
   ],
   "source": [
    "data = pd.read_csv('/kaggle/input/source-based-news-classification/news_articles.csv')\n",
    "data"
   ]
  },
  {
   "cell_type": "markdown",
   "id": "2a6f8f4f",
   "metadata": {
    "papermill": {
     "duration": 0.008711,
     "end_time": "2024-10-13T07:26:07.542829",
     "exception": false,
     "start_time": "2024-10-13T07:26:07.534118",
     "status": "completed"
    },
    "tags": []
   },
   "source": [
    "## Data preprocessing"
   ]
  },
  {
   "cell_type": "code",
   "execution_count": 3,
   "id": "483048c3",
   "metadata": {
    "execution": {
     "iopub.execute_input": "2024-10-13T07:26:07.562937Z",
     "iopub.status.busy": "2024-10-13T07:26:07.562465Z",
     "iopub.status.idle": "2024-10-13T07:26:07.584470Z",
     "shell.execute_reply": "2024-10-13T07:26:07.583220Z"
    },
    "papermill": {
     "duration": 0.03537,
     "end_time": "2024-10-13T07:26:07.587374",
     "exception": false,
     "start_time": "2024-10-13T07:26:07.552004",
     "status": "completed"
    },
    "tags": []
   },
   "outputs": [
    {
     "data": {
      "text/html": [
       "<div>\n",
       "<style scoped>\n",
       "    .dataframe tbody tr th:only-of-type {\n",
       "        vertical-align: middle;\n",
       "    }\n",
       "\n",
       "    .dataframe tbody tr th {\n",
       "        vertical-align: top;\n",
       "    }\n",
       "\n",
       "    .dataframe thead th {\n",
       "        text-align: right;\n",
       "    }\n",
       "</style>\n",
       "<table border=\"1\" class=\"dataframe\">\n",
       "  <thead>\n",
       "    <tr style=\"text-align: right;\">\n",
       "      <th></th>\n",
       "      <th>text</th>\n",
       "      <th>label</th>\n",
       "    </tr>\n",
       "  </thead>\n",
       "  <tbody>\n",
       "    <tr>\n",
       "      <th>0</th>\n",
       "      <td>print they should pay all the back all the mon...</td>\n",
       "      <td>Real</td>\n",
       "    </tr>\n",
       "    <tr>\n",
       "      <th>1</th>\n",
       "      <td>why did attorney general loretta lynch plead t...</td>\n",
       "      <td>Real</td>\n",
       "    </tr>\n",
       "    <tr>\n",
       "      <th>2</th>\n",
       "      <td>red state  \\nfox news sunday reported this mor...</td>\n",
       "      <td>Real</td>\n",
       "    </tr>\n",
       "    <tr>\n",
       "      <th>3</th>\n",
       "      <td>email kayla mueller was a prisoner and torture...</td>\n",
       "      <td>Real</td>\n",
       "    </tr>\n",
       "    <tr>\n",
       "      <th>4</th>\n",
       "      <td>email healthcare reform to make america great ...</td>\n",
       "      <td>Real</td>\n",
       "    </tr>\n",
       "    <tr>\n",
       "      <th>...</th>\n",
       "      <td>...</td>\n",
       "      <td>...</td>\n",
       "    </tr>\n",
       "    <tr>\n",
       "      <th>2045</th>\n",
       "      <td>check out hillarythemed haunted house anticlin...</td>\n",
       "      <td>Real</td>\n",
       "    </tr>\n",
       "    <tr>\n",
       "      <th>2046</th>\n",
       "      <td>good samaritan wearing indian headdress disarm...</td>\n",
       "      <td>Real</td>\n",
       "    </tr>\n",
       "    <tr>\n",
       "      <th>2047</th>\n",
       "      <td>skype sex scam  a fortune built on shame moroc...</td>\n",
       "      <td>Real</td>\n",
       "    </tr>\n",
       "    <tr>\n",
       "      <th>2048</th>\n",
       "      <td>posted by eddie while the skyhigh potency may ...</td>\n",
       "      <td>Real</td>\n",
       "    </tr>\n",
       "    <tr>\n",
       "      <th>2049</th>\n",
       "      <td>billion even after they are known to be keepin...</td>\n",
       "      <td>Real</td>\n",
       "    </tr>\n",
       "  </tbody>\n",
       "</table>\n",
       "<p>2050 rows × 2 columns</p>\n",
       "</div>"
      ],
      "text/plain": [
       "                                                   text label\n",
       "0     print they should pay all the back all the mon...  Real\n",
       "1     why did attorney general loretta lynch plead t...  Real\n",
       "2     red state  \\nfox news sunday reported this mor...  Real\n",
       "3     email kayla mueller was a prisoner and torture...  Real\n",
       "4     email healthcare reform to make america great ...  Real\n",
       "...                                                 ...   ...\n",
       "2045  check out hillarythemed haunted house anticlin...  Real\n",
       "2046  good samaritan wearing indian headdress disarm...  Real\n",
       "2047  skype sex scam  a fortune built on shame moroc...  Real\n",
       "2048  posted by eddie while the skyhigh potency may ...  Real\n",
       "2049  billion even after they are known to be keepin...  Real\n",
       "\n",
       "[2050 rows x 2 columns]"
      ]
     },
     "execution_count": 3,
     "metadata": {},
     "output_type": "execute_result"
    }
   ],
   "source": [
    "# Select the 'text' and 'label' columns, drop any missing values\n",
    "data = data[['text', 'label']].dropna()\n",
    "data"
   ]
  },
  {
   "cell_type": "markdown",
   "id": "119a184e",
   "metadata": {
    "papermill": {
     "duration": 0.009873,
     "end_time": "2024-10-13T07:26:07.606527",
     "exception": false,
     "start_time": "2024-10-13T07:26:07.596654",
     "status": "completed"
    },
    "tags": []
   },
   "source": [
    "## Splitting data into training and testing sets\n"
   ]
  },
  {
   "cell_type": "code",
   "execution_count": 4,
   "id": "58531d27",
   "metadata": {
    "execution": {
     "iopub.execute_input": "2024-10-13T07:26:07.627045Z",
     "iopub.status.busy": "2024-10-13T07:26:07.626536Z",
     "iopub.status.idle": "2024-10-13T07:26:07.644892Z",
     "shell.execute_reply": "2024-10-13T07:26:07.643595Z"
    },
    "papermill": {
     "duration": 0.031548,
     "end_time": "2024-10-13T07:26:07.647395",
     "exception": false,
     "start_time": "2024-10-13T07:26:07.615847",
     "status": "completed"
    },
    "tags": []
   },
   "outputs": [
    {
     "data": {
      "text/plain": [
       "(1857    i think megan kelly has screwed everyone neces...\n",
       " 570     email \\n\\naccording to the jasta law which all...\n",
       " 926     home  news  trump tsunami incoming what trump ...\n",
       " 670     email \\nget ready for the most cringeworthy st...\n",
       " 1674    at the third debate donald trump was asked if ...\n",
       "                               ...                        \n",
       " 1724    gentlemen donald j trump is the new presidente...\n",
       " 1095    time investigating hillary is an attack on all...\n",
       " 1130    the unraveling of hillarys corrupt sphere of i...\n",
       " 1294    contaminated food from china now entering the ...\n",
       " 860     october  daily contrarian reads by david stock...\n",
       " Name: text, Length: 1640, dtype: object,\n",
       " 1808    home  be the change  government corruption  pr...\n",
       " 694     podcast play in new window  download  embed \\n...\n",
       " 906     new leaked clinton emails came from the device...\n",
       " 544     email \\n\\nhillary supporter robert dougherty f...\n",
       " 1847    id love to see clinton spend all her money and...\n",
       "                               ...                        \n",
       " 1061    us navy iran giving terrorists missiles to fir...\n",
       " 705     podcast play in new window  download  embed \\n...\n",
       " 1524    the debate natos eastward expansion \\nin this ...\n",
       " 1509    yemenis stage rally to condemn saudi war crime...\n",
       " 1447    by hrafnkell haraldsson on wed nov nd  at  am ...\n",
       " Name: text, Length: 410, dtype: object,\n",
       " 1857    Fake\n",
       " 570     Fake\n",
       " 926     Fake\n",
       " 670     Fake\n",
       " 1674    Fake\n",
       "         ... \n",
       " 1724    Real\n",
       " 1095    Real\n",
       " 1130    Real\n",
       " 1294    Fake\n",
       " 860     Fake\n",
       " Name: label, Length: 1640, dtype: object,\n",
       " 1808    Real\n",
       " 694     Fake\n",
       " 906     Fake\n",
       " 544     Fake\n",
       " 1847    Fake\n",
       "         ... \n",
       " 1061    Real\n",
       " 705     Fake\n",
       " 1524    Real\n",
       " 1509    Real\n",
       " 1447    Real\n",
       " Name: label, Length: 410, dtype: object)"
      ]
     },
     "execution_count": 4,
     "metadata": {},
     "output_type": "execute_result"
    }
   ],
   "source": [
    "X = data['text']\n",
    "y = data['label']\n",
    "X_train, X_test, y_train, y_test = train_test_split(X, y, test_size=0.2, random_state=42)\n",
    "X_train, X_test, y_train, y_test"
   ]
  },
  {
   "cell_type": "markdown",
   "id": "47f1268e",
   "metadata": {
    "papermill": {
     "duration": 0.009468,
     "end_time": "2024-10-13T07:26:07.667049",
     "exception": false,
     "start_time": "2024-10-13T07:26:07.657581",
     "status": "completed"
    },
    "tags": []
   },
   "source": [
    "## Define the model optimization process using Optuna\n"
   ]
  },
  {
   "cell_type": "code",
   "execution_count": 5,
   "id": "35887965",
   "metadata": {
    "execution": {
     "iopub.execute_input": "2024-10-13T07:26:07.688199Z",
     "iopub.status.busy": "2024-10-13T07:26:07.687747Z",
     "iopub.status.idle": "2024-10-13T07:27:03.815395Z",
     "shell.execute_reply": "2024-10-13T07:27:03.813694Z"
    },
    "papermill": {
     "duration": 56.141949,
     "end_time": "2024-10-13T07:27:03.818517",
     "exception": false,
     "start_time": "2024-10-13T07:26:07.676568",
     "status": "completed"
    },
    "tags": []
   },
   "outputs": [],
   "source": [
    "def objective(trial):\n",
    "    # Hyperparameters for tuning\n",
    "    C = trial.suggest_float(\"C\", 1e-5, 10.0, log=True)\n",
    "    max_df = trial.suggest_float(\"max_df\", 0.5, 1.0)\n",
    "    stop_words = 'english'\n",
    "    \n",
    "    # Create the pipeline: TF-IDF and Logistic Regression\n",
    "    model_pipeline = Pipeline([\n",
    "        ('tfidf', TfidfVectorizer(stop_words=stop_words, max_df=max_df)),\n",
    "        ('log_reg', LogisticRegression(C=C, max_iter=1000, random_state=42))\n",
    "    ])\n",
    "\n",
    "    # Perform cross-validation\n",
    "    score = cross_val_score(model_pipeline, X_train, y_train, n_jobs=-1, cv=3, scoring=\"accuracy\")\n",
    "    return score.mean()\n",
    "\n",
    "# Create Optuna study\n",
    "sampler = TPESampler(seed=42)\n",
    "study = optuna.create_study(direction=\"maximize\", sampler=sampler)\n",
    "study.optimize(objective, n_trials=30)\n"
   ]
  },
  {
   "cell_type": "markdown",
   "id": "308443d0",
   "metadata": {
    "papermill": {
     "duration": 0.009479,
     "end_time": "2024-10-13T07:27:03.838539",
     "exception": false,
     "start_time": "2024-10-13T07:27:03.829060",
     "status": "completed"
    },
    "tags": []
   },
   "source": [
    "## Best hyperparameters\n"
   ]
  },
  {
   "cell_type": "code",
   "execution_count": 6,
   "id": "67dab5ec",
   "metadata": {
    "execution": {
     "iopub.execute_input": "2024-10-13T07:27:03.861934Z",
     "iopub.status.busy": "2024-10-13T07:27:03.861412Z",
     "iopub.status.idle": "2024-10-13T07:27:03.871917Z",
     "shell.execute_reply": "2024-10-13T07:27:03.870058Z"
    },
    "papermill": {
     "duration": 0.02604,
     "end_time": "2024-10-13T07:27:03.874972",
     "exception": false,
     "start_time": "2024-10-13T07:27:03.848932",
     "status": "completed"
    },
    "tags": []
   },
   "outputs": [
    {
     "data": {
      "text/plain": [
       "{'C': 8.467210363394905, 'max_df': 0.502909431035011}"
      ]
     },
     "execution_count": 6,
     "metadata": {},
     "output_type": "execute_result"
    }
   ],
   "source": [
    "best_params = study.best_params\n",
    "best_params"
   ]
  },
  {
   "cell_type": "markdown",
   "id": "3434dd83",
   "metadata": {
    "papermill": {
     "duration": 0.010095,
     "end_time": "2024-10-13T07:27:03.895393",
     "exception": false,
     "start_time": "2024-10-13T07:27:03.885298",
     "status": "completed"
    },
    "tags": []
   },
   "source": [
    "## Build the final model using the best hyperparameters\n"
   ]
  },
  {
   "cell_type": "code",
   "execution_count": 7,
   "id": "7725a8de",
   "metadata": {
    "execution": {
     "iopub.execute_input": "2024-10-13T07:27:03.917611Z",
     "iopub.status.busy": "2024-10-13T07:27:03.917061Z",
     "iopub.status.idle": "2024-10-13T07:27:05.248807Z",
     "shell.execute_reply": "2024-10-13T07:27:05.247523Z"
    },
    "papermill": {
     "duration": 1.34652,
     "end_time": "2024-10-13T07:27:05.251957",
     "exception": false,
     "start_time": "2024-10-13T07:27:03.905437",
     "status": "completed"
    },
    "tags": []
   },
   "outputs": [],
   "source": [
    "tfidf_vectorizer = TfidfVectorizer(stop_words='english', max_df=best_params['max_df'])\n",
    "X_train_tfidf = tfidf_vectorizer.fit_transform(X_train)\n",
    "X_test_tfidf = tfidf_vectorizer.transform(X_test)"
   ]
  },
  {
   "cell_type": "markdown",
   "id": "efadf00b",
   "metadata": {
    "papermill": {
     "duration": 0.009393,
     "end_time": "2024-10-13T07:27:05.271086",
     "exception": false,
     "start_time": "2024-10-13T07:27:05.261693",
     "status": "completed"
    },
    "tags": []
   },
   "source": [
    "## Train the Logistic Regression model with optimized hyperparameters\n"
   ]
  },
  {
   "cell_type": "code",
   "execution_count": 8,
   "id": "76914393",
   "metadata": {
    "execution": {
     "iopub.execute_input": "2024-10-13T07:27:05.292427Z",
     "iopub.status.busy": "2024-10-13T07:27:05.291958Z",
     "iopub.status.idle": "2024-10-13T07:27:08.672496Z",
     "shell.execute_reply": "2024-10-13T07:27:08.671140Z"
    },
    "papermill": {
     "duration": 3.395948,
     "end_time": "2024-10-13T07:27:08.676717",
     "exception": false,
     "start_time": "2024-10-13T07:27:05.280769",
     "status": "completed"
    },
    "tags": []
   },
   "outputs": [
    {
     "data": {
      "text/html": [
       "<style>#sk-container-id-1 {color: black;background-color: white;}#sk-container-id-1 pre{padding: 0;}#sk-container-id-1 div.sk-toggleable {background-color: white;}#sk-container-id-1 label.sk-toggleable__label {cursor: pointer;display: block;width: 100%;margin-bottom: 0;padding: 0.3em;box-sizing: border-box;text-align: center;}#sk-container-id-1 label.sk-toggleable__label-arrow:before {content: \"▸\";float: left;margin-right: 0.25em;color: #696969;}#sk-container-id-1 label.sk-toggleable__label-arrow:hover:before {color: black;}#sk-container-id-1 div.sk-estimator:hover label.sk-toggleable__label-arrow:before {color: black;}#sk-container-id-1 div.sk-toggleable__content {max-height: 0;max-width: 0;overflow: hidden;text-align: left;background-color: #f0f8ff;}#sk-container-id-1 div.sk-toggleable__content pre {margin: 0.2em;color: black;border-radius: 0.25em;background-color: #f0f8ff;}#sk-container-id-1 input.sk-toggleable__control:checked~div.sk-toggleable__content {max-height: 200px;max-width: 100%;overflow: auto;}#sk-container-id-1 input.sk-toggleable__control:checked~label.sk-toggleable__label-arrow:before {content: \"▾\";}#sk-container-id-1 div.sk-estimator input.sk-toggleable__control:checked~label.sk-toggleable__label {background-color: #d4ebff;}#sk-container-id-1 div.sk-label input.sk-toggleable__control:checked~label.sk-toggleable__label {background-color: #d4ebff;}#sk-container-id-1 input.sk-hidden--visually {border: 0;clip: rect(1px 1px 1px 1px);clip: rect(1px, 1px, 1px, 1px);height: 1px;margin: -1px;overflow: hidden;padding: 0;position: absolute;width: 1px;}#sk-container-id-1 div.sk-estimator {font-family: monospace;background-color: #f0f8ff;border: 1px dotted black;border-radius: 0.25em;box-sizing: border-box;margin-bottom: 0.5em;}#sk-container-id-1 div.sk-estimator:hover {background-color: #d4ebff;}#sk-container-id-1 div.sk-parallel-item::after {content: \"\";width: 100%;border-bottom: 1px solid gray;flex-grow: 1;}#sk-container-id-1 div.sk-label:hover label.sk-toggleable__label {background-color: #d4ebff;}#sk-container-id-1 div.sk-serial::before {content: \"\";position: absolute;border-left: 1px solid gray;box-sizing: border-box;top: 0;bottom: 0;left: 50%;z-index: 0;}#sk-container-id-1 div.sk-serial {display: flex;flex-direction: column;align-items: center;background-color: white;padding-right: 0.2em;padding-left: 0.2em;position: relative;}#sk-container-id-1 div.sk-item {position: relative;z-index: 1;}#sk-container-id-1 div.sk-parallel {display: flex;align-items: stretch;justify-content: center;background-color: white;position: relative;}#sk-container-id-1 div.sk-item::before, #sk-container-id-1 div.sk-parallel-item::before {content: \"\";position: absolute;border-left: 1px solid gray;box-sizing: border-box;top: 0;bottom: 0;left: 50%;z-index: -1;}#sk-container-id-1 div.sk-parallel-item {display: flex;flex-direction: column;z-index: 1;position: relative;background-color: white;}#sk-container-id-1 div.sk-parallel-item:first-child::after {align-self: flex-end;width: 50%;}#sk-container-id-1 div.sk-parallel-item:last-child::after {align-self: flex-start;width: 50%;}#sk-container-id-1 div.sk-parallel-item:only-child::after {width: 0;}#sk-container-id-1 div.sk-dashed-wrapped {border: 1px dashed gray;margin: 0 0.4em 0.5em 0.4em;box-sizing: border-box;padding-bottom: 0.4em;background-color: white;}#sk-container-id-1 div.sk-label label {font-family: monospace;font-weight: bold;display: inline-block;line-height: 1.2em;}#sk-container-id-1 div.sk-label-container {text-align: center;}#sk-container-id-1 div.sk-container {/* jupyter's `normalize.less` sets `[hidden] { display: none; }` but bootstrap.min.css set `[hidden] { display: none !important; }` so we also need the `!important` here to be able to override the default hidden behavior on the sphinx rendered scikit-learn.org. See: https://github.com/scikit-learn/scikit-learn/issues/21755 */display: inline-block !important;position: relative;}#sk-container-id-1 div.sk-text-repr-fallback {display: none;}</style><div id=\"sk-container-id-1\" class=\"sk-top-container\"><div class=\"sk-text-repr-fallback\"><pre>LogisticRegression(C=8.467210363394905, max_iter=1000, random_state=42)</pre><b>In a Jupyter environment, please rerun this cell to show the HTML representation or trust the notebook. <br />On GitHub, the HTML representation is unable to render, please try loading this page with nbviewer.org.</b></div><div class=\"sk-container\" hidden><div class=\"sk-item\"><div class=\"sk-estimator sk-toggleable\"><input class=\"sk-toggleable__control sk-hidden--visually\" id=\"sk-estimator-id-1\" type=\"checkbox\" checked><label for=\"sk-estimator-id-1\" class=\"sk-toggleable__label sk-toggleable__label-arrow\">LogisticRegression</label><div class=\"sk-toggleable__content\"><pre>LogisticRegression(C=8.467210363394905, max_iter=1000, random_state=42)</pre></div></div></div></div></div>"
      ],
      "text/plain": [
       "LogisticRegression(C=8.467210363394905, max_iter=1000, random_state=42)"
      ]
     },
     "execution_count": 8,
     "metadata": {},
     "output_type": "execute_result"
    }
   ],
   "source": [
    "model = LogisticRegression(C=best_params['C'], max_iter=1000, random_state=42)\n",
    "model.fit(X_train_tfidf, y_train)\n"
   ]
  },
  {
   "cell_type": "markdown",
   "id": "fb9b2464",
   "metadata": {
    "papermill": {
     "duration": 0.039509,
     "end_time": "2024-10-13T07:27:08.758021",
     "exception": false,
     "start_time": "2024-10-13T07:27:08.718512",
     "status": "completed"
    },
    "tags": []
   },
   "source": [
    "## Model evaluation"
   ]
  },
  {
   "cell_type": "code",
   "execution_count": 9,
   "id": "26c106a8",
   "metadata": {
    "execution": {
     "iopub.execute_input": "2024-10-13T07:27:08.790255Z",
     "iopub.status.busy": "2024-10-13T07:27:08.789814Z",
     "iopub.status.idle": "2024-10-13T07:27:08.829512Z",
     "shell.execute_reply": "2024-10-13T07:27:08.828089Z"
    },
    "papermill": {
     "duration": 0.055471,
     "end_time": "2024-10-13T07:27:08.833353",
     "exception": false,
     "start_time": "2024-10-13T07:27:08.777882",
     "status": "completed"
    },
    "tags": []
   },
   "outputs": [
    {
     "name": "stdout",
     "output_type": "stream",
     "text": [
      "Accuracy: 0.7634146341463415\n",
      "Classification Report:\n",
      "              precision    recall  f1-score   support\n",
      "\n",
      "        Fake       0.76      0.89      0.82       249\n",
      "        Real       0.77      0.57      0.65       161\n",
      "\n",
      "    accuracy                           0.76       410\n",
      "   macro avg       0.77      0.73      0.74       410\n",
      "weighted avg       0.76      0.76      0.75       410\n",
      "\n"
     ]
    }
   ],
   "source": [
    "y_pred = model.predict(X_test_tfidf)\n",
    "accuracy = accuracy_score(y_test, y_pred)\n",
    "report = classification_report(y_test, y_pred)\n",
    "print(f'Accuracy: {accuracy}')\n",
    "print('Classification Report:')\n",
    "print(report)"
   ]
  },
  {
   "cell_type": "markdown",
   "id": "63ab29f9",
   "metadata": {
    "papermill": {
     "duration": 0.013201,
     "end_time": "2024-10-13T07:27:08.859235",
     "exception": false,
     "start_time": "2024-10-13T07:27:08.846034",
     "status": "completed"
    },
    "tags": []
   },
   "source": [
    "## Save the model and vectorizer"
   ]
  },
  {
   "cell_type": "code",
   "execution_count": 10,
   "id": "173b7ff0",
   "metadata": {
    "execution": {
     "iopub.execute_input": "2024-10-13T07:27:08.882429Z",
     "iopub.status.busy": "2024-10-13T07:27:08.881950Z",
     "iopub.status.idle": "2024-10-13T07:27:09.441181Z",
     "shell.execute_reply": "2024-10-13T07:27:09.439963Z"
    },
    "papermill": {
     "duration": 0.574524,
     "end_time": "2024-10-13T07:27:09.443924",
     "exception": false,
     "start_time": "2024-10-13T07:27:08.869400",
     "status": "completed"
    },
    "tags": []
   },
   "outputs": [
    {
     "data": {
      "text/plain": [
       "['optimized_tfidf_vectorizer.pkl']"
      ]
     },
     "execution_count": 10,
     "metadata": {},
     "output_type": "execute_result"
    }
   ],
   "source": [
    "joblib.dump(model, 'optimized_fake_news_detection_model.pkl')\n",
    "joblib.dump(tfidf_vectorizer, 'optimized_tfidf_vectorizer.pkl')\n"
   ]
  },
  {
   "cell_type": "markdown",
   "id": "37541c7b",
   "metadata": {
    "papermill": {
     "duration": 0.009801,
     "end_time": "2024-10-13T07:27:09.463871",
     "exception": false,
     "start_time": "2024-10-13T07:27:09.454070",
     "status": "completed"
    },
    "tags": []
   },
   "source": [
    "## Testing function to predict new examples"
   ]
  },
  {
   "cell_type": "code",
   "execution_count": 11,
   "id": "8c092a6d",
   "metadata": {
    "execution": {
     "iopub.execute_input": "2024-10-13T07:27:09.486814Z",
     "iopub.status.busy": "2024-10-13T07:27:09.486330Z",
     "iopub.status.idle": "2024-10-13T07:27:09.493335Z",
     "shell.execute_reply": "2024-10-13T07:27:09.491519Z"
    },
    "papermill": {
     "duration": 0.021852,
     "end_time": "2024-10-13T07:27:09.496608",
     "exception": false,
     "start_time": "2024-10-13T07:27:09.474756",
     "status": "completed"
    },
    "tags": []
   },
   "outputs": [],
   "source": [
    "def test_model(examples):\n",
    "    examples_tfidf = tfidf_vectorizer.transform(examples)\n",
    "    predictions = model.predict(examples_tfidf)\n",
    "    return predictions\n"
   ]
  },
  {
   "cell_type": "markdown",
   "id": "40be18e6",
   "metadata": {
    "papermill": {
     "duration": 0.009865,
     "end_time": "2024-10-13T07:27:09.516685",
     "exception": false,
     "start_time": "2024-10-13T07:27:09.506820",
     "status": "completed"
    },
    "tags": []
   },
   "source": [
    "## Example test over the dataset"
   ]
  },
  {
   "cell_type": "code",
   "execution_count": 12,
   "id": "f4001eda",
   "metadata": {
    "execution": {
     "iopub.execute_input": "2024-10-13T07:27:09.539100Z",
     "iopub.status.busy": "2024-10-13T07:27:09.538614Z",
     "iopub.status.idle": "2024-10-13T07:27:09.549934Z",
     "shell.execute_reply": "2024-10-13T07:27:09.548544Z"
    },
    "papermill": {
     "duration": 0.025976,
     "end_time": "2024-10-13T07:27:09.552705",
     "exception": false,
     "start_time": "2024-10-13T07:27:09.526729",
     "status": "completed"
    },
    "tags": []
   },
   "outputs": [],
   "source": [
    "test_examples = X_test[:5]\n",
    "predicted_labels = test_model(test_examples)"
   ]
  },
  {
   "cell_type": "markdown",
   "id": "3bf1f0cf",
   "metadata": {
    "papermill": {
     "duration": 0.009708,
     "end_time": "2024-10-13T07:27:09.572653",
     "exception": false,
     "start_time": "2024-10-13T07:27:09.562945",
     "status": "completed"
    },
    "tags": []
   },
   "source": [
    "## Display test results"
   ]
  },
  {
   "cell_type": "code",
   "execution_count": 13,
   "id": "48dd3778",
   "metadata": {
    "execution": {
     "iopub.execute_input": "2024-10-13T07:27:09.597284Z",
     "iopub.status.busy": "2024-10-13T07:27:09.595921Z",
     "iopub.status.idle": "2024-10-13T07:27:09.607456Z",
     "shell.execute_reply": "2024-10-13T07:27:09.606174Z"
    },
    "papermill": {
     "duration": 0.027119,
     "end_time": "2024-10-13T07:27:09.610505",
     "exception": false,
     "start_time": "2024-10-13T07:27:09.583386",
     "status": "completed"
    },
    "tags": []
   },
   "outputs": [
    {
     "name": "stdout",
     "output_type": "stream",
     "text": [
      "                                                   Text Predicted Label  \\\n",
      "1808  home  be the change  government corruption  pr...            Fake   \n",
      "694   podcast play in new window  download  embed \\n...            Fake   \n",
      "906   new leaked clinton emails came from the device...            Fake   \n",
      "544   email \\n\\nhillary supporter robert dougherty f...            Fake   \n",
      "1847  id love to see clinton spend all her money and...            Fake   \n",
      "\n",
      "     Actual Label  \n",
      "1808         Real  \n",
      "694          Fake  \n",
      "906          Fake  \n",
      "544          Fake  \n",
      "1847         Fake  \n"
     ]
    }
   ],
   "source": [
    "test_results = pd.DataFrame({\n",
    "    'Text': test_examples,\n",
    "    'Predicted Label': predicted_labels,\n",
    "    'Actual Label': y_test[:5].values\n",
    "})\n",
    "\n",
    "print(test_results)"
   ]
  },
  {
   "cell_type": "markdown",
   "id": "54039870",
   "metadata": {
    "papermill": {
     "duration": 0.009867,
     "end_time": "2024-10-13T07:27:09.630767",
     "exception": false,
     "start_time": "2024-10-13T07:27:09.620900",
     "status": "completed"
    },
    "tags": []
   },
   "source": [
    "## Save the test results"
   ]
  },
  {
   "cell_type": "code",
   "execution_count": 14,
   "id": "1e4bc304",
   "metadata": {
    "execution": {
     "iopub.execute_input": "2024-10-13T07:27:09.654047Z",
     "iopub.status.busy": "2024-10-13T07:27:09.653581Z",
     "iopub.status.idle": "2024-10-13T07:27:09.664868Z",
     "shell.execute_reply": "2024-10-13T07:27:09.663469Z"
    },
    "papermill": {
     "duration": 0.026668,
     "end_time": "2024-10-13T07:27:09.667780",
     "exception": false,
     "start_time": "2024-10-13T07:27:09.641112",
     "status": "completed"
    },
    "tags": []
   },
   "outputs": [
    {
     "name": "stdout",
     "output_type": "stream",
     "text": [
      "Model and vectorizer saved as 'optimized_fake_news_detection_model.pkl' and 'optimized_tfidf_vectorizer.pkl'.\n"
     ]
    }
   ],
   "source": [
    "test_results.to_csv('test_results.csv', index=False)\n",
    "\n",
    "print(\"Model and vectorizer saved as 'optimized_fake_news_detection_model.pkl' and 'optimized_tfidf_vectorizer.pkl'.\")\n"
   ]
  }
 ],
 "metadata": {
  "kaggle": {
   "accelerator": "none",
   "dataSources": [
    {
     "datasetId": 747224,
     "sourceId": 1449505,
     "sourceType": "datasetVersion"
    }
   ],
   "dockerImageVersionId": 30786,
   "isGpuEnabled": false,
   "isInternetEnabled": true,
   "language": "python",
   "sourceType": "notebook"
  },
  "kernelspec": {
   "display_name": "Python 3",
   "language": "python",
   "name": "python3"
  },
  "language_info": {
   "codemirror_mode": {
    "name": "ipython",
    "version": 3
   },
   "file_extension": ".py",
   "mimetype": "text/x-python",
   "name": "python",
   "nbconvert_exporter": "python",
   "pygments_lexer": "ipython3",
   "version": "3.10.14"
  },
  "papermill": {
   "default_parameters": {},
   "duration": 71.76315,
   "end_time": "2024-10-13T07:27:12.301248",
   "environment_variables": {},
   "exception": null,
   "input_path": "__notebook__.ipynb",
   "output_path": "__notebook__.ipynb",
   "parameters": {},
   "start_time": "2024-10-13T07:26:00.538098",
   "version": "2.6.0"
  }
 },
 "nbformat": 4,
 "nbformat_minor": 5
}
